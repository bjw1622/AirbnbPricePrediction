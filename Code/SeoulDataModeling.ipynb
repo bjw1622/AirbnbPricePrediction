{
 "cells": [
  {
   "cell_type": "code",
   "execution_count": 1,
   "metadata": {},
   "outputs": [
    {
     "data": {
      "text/html": [
       "<div>\n",
       "<style scoped>\n",
       "    .dataframe tbody tr th:only-of-type {\n",
       "        vertical-align: middle;\n",
       "    }\n",
       "\n",
       "    .dataframe tbody tr th {\n",
       "        vertical-align: top;\n",
       "    }\n",
       "\n",
       "    .dataframe thead th {\n",
       "        text-align: right;\n",
       "    }\n",
       "</style>\n",
       "<table border=\"1\" class=\"dataframe\">\n",
       "  <thead>\n",
       "    <tr style=\"text-align: right;\">\n",
       "      <th></th>\n",
       "      <th>Unnamed: 0</th>\n",
       "      <th>accommodates</th>\n",
       "      <th>bedrooms</th>\n",
       "      <th>bathrooms</th>\n",
       "      <th>minstay</th>\n",
       "      <th>latitude</th>\n",
       "      <th>longitude</th>\n",
       "      <th>Entire home/apt</th>\n",
       "      <th>Private room</th>\n",
       "      <th>Shared room</th>\n",
       "      <th>price</th>\n",
       "    </tr>\n",
       "  </thead>\n",
       "  <tbody>\n",
       "    <tr>\n",
       "      <th>0</th>\n",
       "      <td>1</td>\n",
       "      <td>1</td>\n",
       "      <td>1.0</td>\n",
       "      <td>1.0</td>\n",
       "      <td>2.0</td>\n",
       "      <td>37.555893</td>\n",
       "      <td>126.928023</td>\n",
       "      <td>0.0</td>\n",
       "      <td>1.0</td>\n",
       "      <td>0.0</td>\n",
       "      <td>46</td>\n",
       "    </tr>\n",
       "    <tr>\n",
       "      <th>1</th>\n",
       "      <td>2</td>\n",
       "      <td>2</td>\n",
       "      <td>0.0</td>\n",
       "      <td>1.0</td>\n",
       "      <td>1.0</td>\n",
       "      <td>37.576998</td>\n",
       "      <td>126.997793</td>\n",
       "      <td>1.0</td>\n",
       "      <td>0.0</td>\n",
       "      <td>0.0</td>\n",
       "      <td>151</td>\n",
       "    </tr>\n",
       "    <tr>\n",
       "      <th>2</th>\n",
       "      <td>3</td>\n",
       "      <td>6</td>\n",
       "      <td>1.0</td>\n",
       "      <td>1.0</td>\n",
       "      <td>1.0</td>\n",
       "      <td>37.575486</td>\n",
       "      <td>126.990546</td>\n",
       "      <td>0.0</td>\n",
       "      <td>0.0</td>\n",
       "      <td>1.0</td>\n",
       "      <td>14</td>\n",
       "    </tr>\n",
       "    <tr>\n",
       "      <th>3</th>\n",
       "      <td>5</td>\n",
       "      <td>2</td>\n",
       "      <td>1.0</td>\n",
       "      <td>1.0</td>\n",
       "      <td>1.0</td>\n",
       "      <td>37.577029</td>\n",
       "      <td>126.990747</td>\n",
       "      <td>0.0</td>\n",
       "      <td>1.0</td>\n",
       "      <td>0.0</td>\n",
       "      <td>36</td>\n",
       "    </tr>\n",
       "    <tr>\n",
       "      <th>4</th>\n",
       "      <td>7</td>\n",
       "      <td>2</td>\n",
       "      <td>1.0</td>\n",
       "      <td>0.0</td>\n",
       "      <td>2.0</td>\n",
       "      <td>37.555285</td>\n",
       "      <td>126.927202</td>\n",
       "      <td>0.0</td>\n",
       "      <td>1.0</td>\n",
       "      <td>0.0</td>\n",
       "      <td>59</td>\n",
       "    </tr>\n",
       "    <tr>\n",
       "      <th>...</th>\n",
       "      <td>...</td>\n",
       "      <td>...</td>\n",
       "      <td>...</td>\n",
       "      <td>...</td>\n",
       "      <td>...</td>\n",
       "      <td>...</td>\n",
       "      <td>...</td>\n",
       "      <td>...</td>\n",
       "      <td>...</td>\n",
       "      <td>...</td>\n",
       "      <td>...</td>\n",
       "    </tr>\n",
       "    <tr>\n",
       "      <th>3935</th>\n",
       "      <td>8131</td>\n",
       "      <td>3</td>\n",
       "      <td>1.0</td>\n",
       "      <td>1.0</td>\n",
       "      <td>6.0</td>\n",
       "      <td>37.536277</td>\n",
       "      <td>126.900778</td>\n",
       "      <td>1.0</td>\n",
       "      <td>0.0</td>\n",
       "      <td>0.0</td>\n",
       "      <td>48</td>\n",
       "    </tr>\n",
       "    <tr>\n",
       "      <th>3936</th>\n",
       "      <td>8180</td>\n",
       "      <td>4</td>\n",
       "      <td>1.0</td>\n",
       "      <td>1.0</td>\n",
       "      <td>1.0</td>\n",
       "      <td>37.540162</td>\n",
       "      <td>126.946361</td>\n",
       "      <td>1.0</td>\n",
       "      <td>0.0</td>\n",
       "      <td>0.0</td>\n",
       "      <td>75</td>\n",
       "    </tr>\n",
       "    <tr>\n",
       "      <th>3937</th>\n",
       "      <td>8193</td>\n",
       "      <td>3</td>\n",
       "      <td>0.0</td>\n",
       "      <td>1.0</td>\n",
       "      <td>1.0</td>\n",
       "      <td>37.472949</td>\n",
       "      <td>127.039993</td>\n",
       "      <td>1.0</td>\n",
       "      <td>0.0</td>\n",
       "      <td>0.0</td>\n",
       "      <td>41</td>\n",
       "    </tr>\n",
       "    <tr>\n",
       "      <th>3938</th>\n",
       "      <td>8245</td>\n",
       "      <td>4</td>\n",
       "      <td>1.0</td>\n",
       "      <td>1.0</td>\n",
       "      <td>1.0</td>\n",
       "      <td>37.550713</td>\n",
       "      <td>126.914019</td>\n",
       "      <td>1.0</td>\n",
       "      <td>0.0</td>\n",
       "      <td>0.0</td>\n",
       "      <td>65</td>\n",
       "    </tr>\n",
       "    <tr>\n",
       "      <th>3939</th>\n",
       "      <td>8266</td>\n",
       "      <td>3</td>\n",
       "      <td>0.0</td>\n",
       "      <td>1.0</td>\n",
       "      <td>1.0</td>\n",
       "      <td>37.529494</td>\n",
       "      <td>126.846710</td>\n",
       "      <td>1.0</td>\n",
       "      <td>0.0</td>\n",
       "      <td>0.0</td>\n",
       "      <td>49</td>\n",
       "    </tr>\n",
       "  </tbody>\n",
       "</table>\n",
       "<p>3940 rows × 11 columns</p>\n",
       "</div>"
      ],
      "text/plain": [
       "      Unnamed: 0  accommodates  bedrooms  bathrooms  minstay   latitude  \\\n",
       "0              1             1       1.0        1.0      2.0  37.555893   \n",
       "1              2             2       0.0        1.0      1.0  37.576998   \n",
       "2              3             6       1.0        1.0      1.0  37.575486   \n",
       "3              5             2       1.0        1.0      1.0  37.577029   \n",
       "4              7             2       1.0        0.0      2.0  37.555285   \n",
       "...          ...           ...       ...        ...      ...        ...   \n",
       "3935        8131             3       1.0        1.0      6.0  37.536277   \n",
       "3936        8180             4       1.0        1.0      1.0  37.540162   \n",
       "3937        8193             3       0.0        1.0      1.0  37.472949   \n",
       "3938        8245             4       1.0        1.0      1.0  37.550713   \n",
       "3939        8266             3       0.0        1.0      1.0  37.529494   \n",
       "\n",
       "       longitude  Entire home/apt  Private room  Shared room  price  \n",
       "0     126.928023              0.0           1.0          0.0     46  \n",
       "1     126.997793              1.0           0.0          0.0    151  \n",
       "2     126.990546              0.0           0.0          1.0     14  \n",
       "3     126.990747              0.0           1.0          0.0     36  \n",
       "4     126.927202              0.0           1.0          0.0     59  \n",
       "...          ...              ...           ...          ...    ...  \n",
       "3935  126.900778              1.0           0.0          0.0     48  \n",
       "3936  126.946361              1.0           0.0          0.0     75  \n",
       "3937  127.039993              1.0           0.0          0.0     41  \n",
       "3938  126.914019              1.0           0.0          0.0     65  \n",
       "3939  126.846710              1.0           0.0          0.0     49  \n",
       "\n",
       "[3940 rows x 11 columns]"
      ]
     },
     "execution_count": 1,
     "metadata": {},
     "output_type": "execute_result"
    }
   ],
   "source": [
    "import pandas as pd\n",
    "import numpy as np\n",
    "import matplotlib.pyplot as plt\n",
    "\n",
    "Pre_data = pd.read_csv(\"C:\\\\Users\\\\2019A00303\\\\Desktop\\\\Code\\\\Airbnb Project\\\\Data\\\\PreProcessingSeoul.csv\")\n",
    "Pre_data"
   ]
  },
  {
   "cell_type": "code",
   "execution_count": 2,
   "metadata": {},
   "outputs": [
    {
     "data": {
      "text/html": [
       "<div>\n",
       "<style scoped>\n",
       "    .dataframe tbody tr th:only-of-type {\n",
       "        vertical-align: middle;\n",
       "    }\n",
       "\n",
       "    .dataframe tbody tr th {\n",
       "        vertical-align: top;\n",
       "    }\n",
       "\n",
       "    .dataframe thead th {\n",
       "        text-align: right;\n",
       "    }\n",
       "</style>\n",
       "<table border=\"1\" class=\"dataframe\">\n",
       "  <thead>\n",
       "    <tr style=\"text-align: right;\">\n",
       "      <th></th>\n",
       "      <th>Unnamed: 0</th>\n",
       "      <th>accommodates</th>\n",
       "      <th>bedrooms</th>\n",
       "      <th>bathrooms</th>\n",
       "      <th>minstay</th>\n",
       "      <th>latitude</th>\n",
       "      <th>longitude</th>\n",
       "      <th>Entire home/apt</th>\n",
       "      <th>Private room</th>\n",
       "      <th>Shared room</th>\n",
       "      <th>price</th>\n",
       "      <th>group</th>\n",
       "    </tr>\n",
       "  </thead>\n",
       "  <tbody>\n",
       "    <tr>\n",
       "      <th>0</th>\n",
       "      <td>1</td>\n",
       "      <td>1</td>\n",
       "      <td>1.0</td>\n",
       "      <td>1.0</td>\n",
       "      <td>2.0</td>\n",
       "      <td>37.555893</td>\n",
       "      <td>126.928023</td>\n",
       "      <td>0.0</td>\n",
       "      <td>1.0</td>\n",
       "      <td>0.0</td>\n",
       "      <td>46</td>\n",
       "      <td>group_2</td>\n",
       "    </tr>\n",
       "    <tr>\n",
       "      <th>1</th>\n",
       "      <td>2</td>\n",
       "      <td>2</td>\n",
       "      <td>0.0</td>\n",
       "      <td>1.0</td>\n",
       "      <td>1.0</td>\n",
       "      <td>37.576998</td>\n",
       "      <td>126.997793</td>\n",
       "      <td>1.0</td>\n",
       "      <td>0.0</td>\n",
       "      <td>0.0</td>\n",
       "      <td>151</td>\n",
       "      <td>group_5</td>\n",
       "    </tr>\n",
       "    <tr>\n",
       "      <th>2</th>\n",
       "      <td>3</td>\n",
       "      <td>6</td>\n",
       "      <td>1.0</td>\n",
       "      <td>1.0</td>\n",
       "      <td>1.0</td>\n",
       "      <td>37.575486</td>\n",
       "      <td>126.990546</td>\n",
       "      <td>0.0</td>\n",
       "      <td>0.0</td>\n",
       "      <td>1.0</td>\n",
       "      <td>14</td>\n",
       "      <td>group_1</td>\n",
       "    </tr>\n",
       "    <tr>\n",
       "      <th>3</th>\n",
       "      <td>5</td>\n",
       "      <td>2</td>\n",
       "      <td>1.0</td>\n",
       "      <td>1.0</td>\n",
       "      <td>1.0</td>\n",
       "      <td>37.577029</td>\n",
       "      <td>126.990747</td>\n",
       "      <td>0.0</td>\n",
       "      <td>1.0</td>\n",
       "      <td>0.0</td>\n",
       "      <td>36</td>\n",
       "      <td>group_2</td>\n",
       "    </tr>\n",
       "    <tr>\n",
       "      <th>4</th>\n",
       "      <td>7</td>\n",
       "      <td>2</td>\n",
       "      <td>1.0</td>\n",
       "      <td>0.0</td>\n",
       "      <td>2.0</td>\n",
       "      <td>37.555285</td>\n",
       "      <td>126.927202</td>\n",
       "      <td>0.0</td>\n",
       "      <td>1.0</td>\n",
       "      <td>0.0</td>\n",
       "      <td>59</td>\n",
       "      <td>group_2</td>\n",
       "    </tr>\n",
       "  </tbody>\n",
       "</table>\n",
       "</div>"
      ],
      "text/plain": [
       "   Unnamed: 0  accommodates  bedrooms  bathrooms  minstay   latitude  \\\n",
       "0           1             1       1.0        1.0      2.0  37.555893   \n",
       "1           2             2       0.0        1.0      1.0  37.576998   \n",
       "2           3             6       1.0        1.0      1.0  37.575486   \n",
       "3           5             2       1.0        1.0      1.0  37.577029   \n",
       "4           7             2       1.0        0.0      2.0  37.555285   \n",
       "\n",
       "    longitude  Entire home/apt  Private room  Shared room  price    group  \n",
       "0  126.928023              0.0           1.0          0.0     46  group_2  \n",
       "1  126.997793              1.0           0.0          0.0    151  group_5  \n",
       "2  126.990546              0.0           0.0          1.0     14  group_1  \n",
       "3  126.990747              0.0           1.0          0.0     36  group_2  \n",
       "4  126.927202              0.0           1.0          0.0     59  group_2  "
      ]
     },
     "execution_count": 2,
     "metadata": {},
     "output_type": "execute_result"
    }
   ],
   "source": [
    "Pre_data['group'] = pd.cut(x=Pre_data['price'],\n",
    "bins=[0, 30, 60, 90, 120, 8000],\n",
    "labels=['group_1','group_2','group_3','group_4','group_5'])\n",
    "Pre_data.head()"
   ]
  },
  {
   "cell_type": "code",
   "execution_count": 3,
   "metadata": {},
   "outputs": [],
   "source": [
    "#Instance selection & partitioning\n",
    "\n",
    "from sklearn.model_selection import StratifiedShuffleSplit\n",
    "\n",
    "split = StratifiedShuffleSplit(n_splits=1, test_size=0.2, random_state=42)\n",
    "for train_index, test_index in split.split(Pre_data, Pre_data[\"group\"]):\n",
    "    train = Pre_data.loc[train_index]\n",
    "    test = Pre_data.loc[test_index]"
   ]
  },
  {
   "cell_type": "code",
   "execution_count": 4,
   "metadata": {},
   "outputs": [
    {
     "data": {
      "text/plain": [
       "group_2    0.417513\n",
       "group_3    0.282995\n",
       "group_1    0.179251\n",
       "group_5    0.069797\n",
       "group_4    0.050444\n",
       "Name: group, dtype: float64"
      ]
     },
     "execution_count": 4,
     "metadata": {},
     "output_type": "execute_result"
    }
   ],
   "source": [
    "train['group'].value_counts() / len(train)"
   ]
  },
  {
   "cell_type": "code",
   "execution_count": 5,
   "metadata": {},
   "outputs": [
    {
     "data": {
      "text/plain": [
       "group_2    0.417513\n",
       "group_3    0.282995\n",
       "group_1    0.178934\n",
       "group_5    0.069797\n",
       "group_4    0.050761\n",
       "Name: group, dtype: float64"
      ]
     },
     "execution_count": 5,
     "metadata": {},
     "output_type": "execute_result"
    }
   ],
   "source": [
    "test['group'].value_counts() / len(test)"
   ]
  },
  {
   "cell_type": "code",
   "execution_count": 6,
   "metadata": {},
   "outputs": [
    {
     "data": {
      "text/html": [
       "<div>\n",
       "<style scoped>\n",
       "    .dataframe tbody tr th:only-of-type {\n",
       "        vertical-align: middle;\n",
       "    }\n",
       "\n",
       "    .dataframe tbody tr th {\n",
       "        vertical-align: top;\n",
       "    }\n",
       "\n",
       "    .dataframe thead th {\n",
       "        text-align: right;\n",
       "    }\n",
       "</style>\n",
       "<table border=\"1\" class=\"dataframe\">\n",
       "  <thead>\n",
       "    <tr style=\"text-align: right;\">\n",
       "      <th></th>\n",
       "      <th>Unnamed: 0</th>\n",
       "      <th>accommodates</th>\n",
       "      <th>bedrooms</th>\n",
       "      <th>bathrooms</th>\n",
       "      <th>minstay</th>\n",
       "      <th>latitude</th>\n",
       "      <th>longitude</th>\n",
       "      <th>Entire home/apt</th>\n",
       "      <th>Private room</th>\n",
       "      <th>Shared room</th>\n",
       "      <th>price</th>\n",
       "    </tr>\n",
       "  </thead>\n",
       "  <tbody>\n",
       "    <tr>\n",
       "      <th>2119</th>\n",
       "      <td>3572</td>\n",
       "      <td>2</td>\n",
       "      <td>0.0</td>\n",
       "      <td>1.0</td>\n",
       "      <td>2.0</td>\n",
       "      <td>37.499058</td>\n",
       "      <td>127.027901</td>\n",
       "      <td>1.0</td>\n",
       "      <td>0.0</td>\n",
       "      <td>0.0</td>\n",
       "      <td>65</td>\n",
       "    </tr>\n",
       "    <tr>\n",
       "      <th>2361</th>\n",
       "      <td>4039</td>\n",
       "      <td>12</td>\n",
       "      <td>4.0</td>\n",
       "      <td>2.0</td>\n",
       "      <td>2.0</td>\n",
       "      <td>37.584675</td>\n",
       "      <td>126.986513</td>\n",
       "      <td>1.0</td>\n",
       "      <td>0.0</td>\n",
       "      <td>0.0</td>\n",
       "      <td>608</td>\n",
       "    </tr>\n",
       "    <tr>\n",
       "      <th>1500</th>\n",
       "      <td>2464</td>\n",
       "      <td>4</td>\n",
       "      <td>1.0</td>\n",
       "      <td>2.0</td>\n",
       "      <td>1.0</td>\n",
       "      <td>37.581864</td>\n",
       "      <td>126.970755</td>\n",
       "      <td>0.0</td>\n",
       "      <td>1.0</td>\n",
       "      <td>0.0</td>\n",
       "      <td>47</td>\n",
       "    </tr>\n",
       "    <tr>\n",
       "      <th>2849</th>\n",
       "      <td>4966</td>\n",
       "      <td>4</td>\n",
       "      <td>1.0</td>\n",
       "      <td>2.0</td>\n",
       "      <td>1.0</td>\n",
       "      <td>37.555586</td>\n",
       "      <td>126.930560</td>\n",
       "      <td>0.0</td>\n",
       "      <td>0.0</td>\n",
       "      <td>1.0</td>\n",
       "      <td>12</td>\n",
       "    </tr>\n",
       "    <tr>\n",
       "      <th>140</th>\n",
       "      <td>208</td>\n",
       "      <td>1</td>\n",
       "      <td>1.0</td>\n",
       "      <td>2.0</td>\n",
       "      <td>15.0</td>\n",
       "      <td>37.554395</td>\n",
       "      <td>126.919558</td>\n",
       "      <td>0.0</td>\n",
       "      <td>1.0</td>\n",
       "      <td>0.0</td>\n",
       "      <td>20</td>\n",
       "    </tr>\n",
       "  </tbody>\n",
       "</table>\n",
       "</div>"
      ],
      "text/plain": [
       "      Unnamed: 0  accommodates  bedrooms  bathrooms  minstay   latitude  \\\n",
       "2119        3572             2       0.0        1.0      2.0  37.499058   \n",
       "2361        4039            12       4.0        2.0      2.0  37.584675   \n",
       "1500        2464             4       1.0        2.0      1.0  37.581864   \n",
       "2849        4966             4       1.0        2.0      1.0  37.555586   \n",
       "140          208             1       1.0        2.0     15.0  37.554395   \n",
       "\n",
       "       longitude  Entire home/apt  Private room  Shared room  price  \n",
       "2119  127.027901              1.0           0.0          0.0     65  \n",
       "2361  126.986513              1.0           0.0          0.0    608  \n",
       "1500  126.970755              0.0           1.0          0.0     47  \n",
       "2849  126.930560              0.0           0.0          1.0     12  \n",
       "140   126.919558              0.0           1.0          0.0     20  "
      ]
     },
     "execution_count": 6,
     "metadata": {},
     "output_type": "execute_result"
    }
   ],
   "source": [
    "train.drop('group', axis=1, inplace=True)\n",
    "train.head()"
   ]
  },
  {
   "cell_type": "code",
   "execution_count": 7,
   "metadata": {},
   "outputs": [
    {
     "data": {
      "text/html": [
       "<div>\n",
       "<style scoped>\n",
       "    .dataframe tbody tr th:only-of-type {\n",
       "        vertical-align: middle;\n",
       "    }\n",
       "\n",
       "    .dataframe tbody tr th {\n",
       "        vertical-align: top;\n",
       "    }\n",
       "\n",
       "    .dataframe thead th {\n",
       "        text-align: right;\n",
       "    }\n",
       "</style>\n",
       "<table border=\"1\" class=\"dataframe\">\n",
       "  <thead>\n",
       "    <tr style=\"text-align: right;\">\n",
       "      <th></th>\n",
       "      <th>accommodates</th>\n",
       "      <th>bedrooms</th>\n",
       "      <th>bathrooms</th>\n",
       "      <th>minstay</th>\n",
       "      <th>latitude</th>\n",
       "      <th>longitude</th>\n",
       "      <th>Entire home/apt</th>\n",
       "      <th>Private room</th>\n",
       "      <th>Shared room</th>\n",
       "      <th>price</th>\n",
       "    </tr>\n",
       "  </thead>\n",
       "  <tbody>\n",
       "    <tr>\n",
       "      <th>1796</th>\n",
       "      <td>2</td>\n",
       "      <td>1.0</td>\n",
       "      <td>1.0</td>\n",
       "      <td>2.0</td>\n",
       "      <td>37.512446</td>\n",
       "      <td>127.109762</td>\n",
       "      <td>0.0</td>\n",
       "      <td>1.0</td>\n",
       "      <td>0.0</td>\n",
       "      <td>34</td>\n",
       "    </tr>\n",
       "    <tr>\n",
       "      <th>702</th>\n",
       "      <td>3</td>\n",
       "      <td>0.0</td>\n",
       "      <td>1.0</td>\n",
       "      <td>2.0</td>\n",
       "      <td>37.564901</td>\n",
       "      <td>126.927480</td>\n",
       "      <td>1.0</td>\n",
       "      <td>0.0</td>\n",
       "      <td>0.0</td>\n",
       "      <td>65</td>\n",
       "    </tr>\n",
       "    <tr>\n",
       "      <th>3622</th>\n",
       "      <td>5</td>\n",
       "      <td>1.0</td>\n",
       "      <td>1.0</td>\n",
       "      <td>1.0</td>\n",
       "      <td>37.557767</td>\n",
       "      <td>126.810541</td>\n",
       "      <td>1.0</td>\n",
       "      <td>0.0</td>\n",
       "      <td>0.0</td>\n",
       "      <td>34</td>\n",
       "    </tr>\n",
       "    <tr>\n",
       "      <th>3707</th>\n",
       "      <td>4</td>\n",
       "      <td>1.0</td>\n",
       "      <td>1.0</td>\n",
       "      <td>2.0</td>\n",
       "      <td>37.553068</td>\n",
       "      <td>126.937191</td>\n",
       "      <td>0.0</td>\n",
       "      <td>1.0</td>\n",
       "      <td>0.0</td>\n",
       "      <td>53</td>\n",
       "    </tr>\n",
       "    <tr>\n",
       "      <th>218</th>\n",
       "      <td>2</td>\n",
       "      <td>1.0</td>\n",
       "      <td>2.0</td>\n",
       "      <td>1.0</td>\n",
       "      <td>37.517533</td>\n",
       "      <td>127.027462</td>\n",
       "      <td>0.0</td>\n",
       "      <td>1.0</td>\n",
       "      <td>0.0</td>\n",
       "      <td>53</td>\n",
       "    </tr>\n",
       "  </tbody>\n",
       "</table>\n",
       "</div>"
      ],
      "text/plain": [
       "      accommodates  bedrooms  bathrooms  minstay   latitude   longitude  \\\n",
       "1796             2       1.0        1.0      2.0  37.512446  127.109762   \n",
       "702              3       0.0        1.0      2.0  37.564901  126.927480   \n",
       "3622             5       1.0        1.0      1.0  37.557767  126.810541   \n",
       "3707             4       1.0        1.0      2.0  37.553068  126.937191   \n",
       "218              2       1.0        2.0      1.0  37.517533  127.027462   \n",
       "\n",
       "      Entire home/apt  Private room  Shared room  price  \n",
       "1796              0.0           1.0          0.0     34  \n",
       "702               1.0           0.0          0.0     65  \n",
       "3622              1.0           0.0          0.0     34  \n",
       "3707              0.0           1.0          0.0     53  \n",
       "218               0.0           1.0          0.0     53  "
      ]
     },
     "execution_count": 7,
     "metadata": {},
     "output_type": "execute_result"
    }
   ],
   "source": [
    "test.drop(['Unnamed: 0','group'], axis=1, inplace=True)\n",
    "test.head()"
   ]
  },
  {
   "cell_type": "code",
   "execution_count": 8,
   "metadata": {},
   "outputs": [
    {
     "data": {
      "text/html": [
       "<div>\n",
       "<style scoped>\n",
       "    .dataframe tbody tr th:only-of-type {\n",
       "        vertical-align: middle;\n",
       "    }\n",
       "\n",
       "    .dataframe tbody tr th {\n",
       "        vertical-align: top;\n",
       "    }\n",
       "\n",
       "    .dataframe thead th {\n",
       "        text-align: right;\n",
       "    }\n",
       "</style>\n",
       "<table border=\"1\" class=\"dataframe\">\n",
       "  <thead>\n",
       "    <tr style=\"text-align: right;\">\n",
       "      <th></th>\n",
       "      <th>price</th>\n",
       "    </tr>\n",
       "  </thead>\n",
       "  <tbody>\n",
       "    <tr>\n",
       "      <th>2119</th>\n",
       "      <td>65</td>\n",
       "    </tr>\n",
       "    <tr>\n",
       "      <th>2361</th>\n",
       "      <td>608</td>\n",
       "    </tr>\n",
       "    <tr>\n",
       "      <th>1500</th>\n",
       "      <td>47</td>\n",
       "    </tr>\n",
       "    <tr>\n",
       "      <th>2849</th>\n",
       "      <td>12</td>\n",
       "    </tr>\n",
       "    <tr>\n",
       "      <th>140</th>\n",
       "      <td>20</td>\n",
       "    </tr>\n",
       "  </tbody>\n",
       "</table>\n",
       "</div>"
      ],
      "text/plain": [
       "      price\n",
       "2119     65\n",
       "2361    608\n",
       "1500     47\n",
       "2849     12\n",
       "140      20"
      ]
     },
     "execution_count": 8,
     "metadata": {},
     "output_type": "execute_result"
    }
   ],
   "source": [
    "train_y = train[['price']]\n",
    "train_y.head()"
   ]
  },
  {
   "cell_type": "code",
   "execution_count": 9,
   "metadata": {},
   "outputs": [
    {
     "data": {
      "text/html": [
       "<div>\n",
       "<style scoped>\n",
       "    .dataframe tbody tr th:only-of-type {\n",
       "        vertical-align: middle;\n",
       "    }\n",
       "\n",
       "    .dataframe tbody tr th {\n",
       "        vertical-align: top;\n",
       "    }\n",
       "\n",
       "    .dataframe thead th {\n",
       "        text-align: right;\n",
       "    }\n",
       "</style>\n",
       "<table border=\"1\" class=\"dataframe\">\n",
       "  <thead>\n",
       "    <tr style=\"text-align: right;\">\n",
       "      <th></th>\n",
       "      <th>accommodates</th>\n",
       "      <th>bedrooms</th>\n",
       "      <th>bathrooms</th>\n",
       "      <th>minstay</th>\n",
       "      <th>latitude</th>\n",
       "      <th>longitude</th>\n",
       "      <th>Entire home/apt</th>\n",
       "      <th>Private room</th>\n",
       "      <th>Shared room</th>\n",
       "    </tr>\n",
       "  </thead>\n",
       "  <tbody>\n",
       "    <tr>\n",
       "      <th>2119</th>\n",
       "      <td>2</td>\n",
       "      <td>0.0</td>\n",
       "      <td>1.0</td>\n",
       "      <td>2.0</td>\n",
       "      <td>37.499058</td>\n",
       "      <td>127.027901</td>\n",
       "      <td>1.0</td>\n",
       "      <td>0.0</td>\n",
       "      <td>0.0</td>\n",
       "    </tr>\n",
       "    <tr>\n",
       "      <th>2361</th>\n",
       "      <td>12</td>\n",
       "      <td>4.0</td>\n",
       "      <td>2.0</td>\n",
       "      <td>2.0</td>\n",
       "      <td>37.584675</td>\n",
       "      <td>126.986513</td>\n",
       "      <td>1.0</td>\n",
       "      <td>0.0</td>\n",
       "      <td>0.0</td>\n",
       "    </tr>\n",
       "    <tr>\n",
       "      <th>1500</th>\n",
       "      <td>4</td>\n",
       "      <td>1.0</td>\n",
       "      <td>2.0</td>\n",
       "      <td>1.0</td>\n",
       "      <td>37.581864</td>\n",
       "      <td>126.970755</td>\n",
       "      <td>0.0</td>\n",
       "      <td>1.0</td>\n",
       "      <td>0.0</td>\n",
       "    </tr>\n",
       "    <tr>\n",
       "      <th>2849</th>\n",
       "      <td>4</td>\n",
       "      <td>1.0</td>\n",
       "      <td>2.0</td>\n",
       "      <td>1.0</td>\n",
       "      <td>37.555586</td>\n",
       "      <td>126.930560</td>\n",
       "      <td>0.0</td>\n",
       "      <td>0.0</td>\n",
       "      <td>1.0</td>\n",
       "    </tr>\n",
       "    <tr>\n",
       "      <th>140</th>\n",
       "      <td>1</td>\n",
       "      <td>1.0</td>\n",
       "      <td>2.0</td>\n",
       "      <td>15.0</td>\n",
       "      <td>37.554395</td>\n",
       "      <td>126.919558</td>\n",
       "      <td>0.0</td>\n",
       "      <td>1.0</td>\n",
       "      <td>0.0</td>\n",
       "    </tr>\n",
       "  </tbody>\n",
       "</table>\n",
       "</div>"
      ],
      "text/plain": [
       "      accommodates  bedrooms  bathrooms  minstay   latitude   longitude  \\\n",
       "2119             2       0.0        1.0      2.0  37.499058  127.027901   \n",
       "2361            12       4.0        2.0      2.0  37.584675  126.986513   \n",
       "1500             4       1.0        2.0      1.0  37.581864  126.970755   \n",
       "2849             4       1.0        2.0      1.0  37.555586  126.930560   \n",
       "140              1       1.0        2.0     15.0  37.554395  126.919558   \n",
       "\n",
       "      Entire home/apt  Private room  Shared room  \n",
       "2119              1.0           0.0          0.0  \n",
       "2361              1.0           0.0          0.0  \n",
       "1500              0.0           1.0          0.0  \n",
       "2849              0.0           0.0          1.0  \n",
       "140               0.0           1.0          0.0  "
      ]
     },
     "execution_count": 9,
     "metadata": {},
     "output_type": "execute_result"
    }
   ],
   "source": [
    "train.drop(['Unnamed: 0', 'price'], axis=1, inplace=True)\n",
    "train_X = train\n",
    "train_X.head()"
   ]
  },
  {
   "cell_type": "code",
   "execution_count": 10,
   "metadata": {},
   "outputs": [
    {
     "data": {
      "text/html": [
       "<div>\n",
       "<style scoped>\n",
       "    .dataframe tbody tr th:only-of-type {\n",
       "        vertical-align: middle;\n",
       "    }\n",
       "\n",
       "    .dataframe tbody tr th {\n",
       "        vertical-align: top;\n",
       "    }\n",
       "\n",
       "    .dataframe thead th {\n",
       "        text-align: right;\n",
       "    }\n",
       "</style>\n",
       "<table border=\"1\" class=\"dataframe\">\n",
       "  <thead>\n",
       "    <tr style=\"text-align: right;\">\n",
       "      <th></th>\n",
       "      <th>price</th>\n",
       "    </tr>\n",
       "  </thead>\n",
       "  <tbody>\n",
       "    <tr>\n",
       "      <th>1796</th>\n",
       "      <td>34</td>\n",
       "    </tr>\n",
       "    <tr>\n",
       "      <th>702</th>\n",
       "      <td>65</td>\n",
       "    </tr>\n",
       "    <tr>\n",
       "      <th>3622</th>\n",
       "      <td>34</td>\n",
       "    </tr>\n",
       "    <tr>\n",
       "      <th>3707</th>\n",
       "      <td>53</td>\n",
       "    </tr>\n",
       "    <tr>\n",
       "      <th>218</th>\n",
       "      <td>53</td>\n",
       "    </tr>\n",
       "  </tbody>\n",
       "</table>\n",
       "</div>"
      ],
      "text/plain": [
       "      price\n",
       "1796     34\n",
       "702      65\n",
       "3622     34\n",
       "3707     53\n",
       "218      53"
      ]
     },
     "execution_count": 10,
     "metadata": {},
     "output_type": "execute_result"
    }
   ],
   "source": [
    "test_y= test[['price']]\n",
    "test_y.head()"
   ]
  },
  {
   "cell_type": "code",
   "execution_count": 11,
   "metadata": {},
   "outputs": [
    {
     "data": {
      "text/html": [
       "<div>\n",
       "<style scoped>\n",
       "    .dataframe tbody tr th:only-of-type {\n",
       "        vertical-align: middle;\n",
       "    }\n",
       "\n",
       "    .dataframe tbody tr th {\n",
       "        vertical-align: top;\n",
       "    }\n",
       "\n",
       "    .dataframe thead th {\n",
       "        text-align: right;\n",
       "    }\n",
       "</style>\n",
       "<table border=\"1\" class=\"dataframe\">\n",
       "  <thead>\n",
       "    <tr style=\"text-align: right;\">\n",
       "      <th></th>\n",
       "      <th>accommodates</th>\n",
       "      <th>bedrooms</th>\n",
       "      <th>bathrooms</th>\n",
       "      <th>minstay</th>\n",
       "      <th>latitude</th>\n",
       "      <th>longitude</th>\n",
       "      <th>Entire home/apt</th>\n",
       "      <th>Private room</th>\n",
       "      <th>Shared room</th>\n",
       "    </tr>\n",
       "  </thead>\n",
       "  <tbody>\n",
       "    <tr>\n",
       "      <th>1796</th>\n",
       "      <td>2</td>\n",
       "      <td>1.0</td>\n",
       "      <td>1.0</td>\n",
       "      <td>2.0</td>\n",
       "      <td>37.512446</td>\n",
       "      <td>127.109762</td>\n",
       "      <td>0.0</td>\n",
       "      <td>1.0</td>\n",
       "      <td>0.0</td>\n",
       "    </tr>\n",
       "    <tr>\n",
       "      <th>702</th>\n",
       "      <td>3</td>\n",
       "      <td>0.0</td>\n",
       "      <td>1.0</td>\n",
       "      <td>2.0</td>\n",
       "      <td>37.564901</td>\n",
       "      <td>126.927480</td>\n",
       "      <td>1.0</td>\n",
       "      <td>0.0</td>\n",
       "      <td>0.0</td>\n",
       "    </tr>\n",
       "    <tr>\n",
       "      <th>3622</th>\n",
       "      <td>5</td>\n",
       "      <td>1.0</td>\n",
       "      <td>1.0</td>\n",
       "      <td>1.0</td>\n",
       "      <td>37.557767</td>\n",
       "      <td>126.810541</td>\n",
       "      <td>1.0</td>\n",
       "      <td>0.0</td>\n",
       "      <td>0.0</td>\n",
       "    </tr>\n",
       "    <tr>\n",
       "      <th>3707</th>\n",
       "      <td>4</td>\n",
       "      <td>1.0</td>\n",
       "      <td>1.0</td>\n",
       "      <td>2.0</td>\n",
       "      <td>37.553068</td>\n",
       "      <td>126.937191</td>\n",
       "      <td>0.0</td>\n",
       "      <td>1.0</td>\n",
       "      <td>0.0</td>\n",
       "    </tr>\n",
       "    <tr>\n",
       "      <th>218</th>\n",
       "      <td>2</td>\n",
       "      <td>1.0</td>\n",
       "      <td>2.0</td>\n",
       "      <td>1.0</td>\n",
       "      <td>37.517533</td>\n",
       "      <td>127.027462</td>\n",
       "      <td>0.0</td>\n",
       "      <td>1.0</td>\n",
       "      <td>0.0</td>\n",
       "    </tr>\n",
       "  </tbody>\n",
       "</table>\n",
       "</div>"
      ],
      "text/plain": [
       "      accommodates  bedrooms  bathrooms  minstay   latitude   longitude  \\\n",
       "1796             2       1.0        1.0      2.0  37.512446  127.109762   \n",
       "702              3       0.0        1.0      2.0  37.564901  126.927480   \n",
       "3622             5       1.0        1.0      1.0  37.557767  126.810541   \n",
       "3707             4       1.0        1.0      2.0  37.553068  126.937191   \n",
       "218              2       1.0        2.0      1.0  37.517533  127.027462   \n",
       "\n",
       "      Entire home/apt  Private room  Shared room  \n",
       "1796              0.0           1.0          0.0  \n",
       "702               1.0           0.0          0.0  \n",
       "3622              1.0           0.0          0.0  \n",
       "3707              0.0           1.0          0.0  \n",
       "218               0.0           1.0          0.0  "
      ]
     },
     "execution_count": 11,
     "metadata": {},
     "output_type": "execute_result"
    }
   ],
   "source": [
    "test.drop('price', axis=1, inplace=True)\n",
    "test_X = test\n",
    "test_X.head()"
   ]
  },
  {
   "cell_type": "code",
   "execution_count": 15,
   "metadata": {},
   "outputs": [
    {
     "data": {
      "text/plain": [
       "LinearRegression()"
      ]
     },
     "execution_count": 15,
     "metadata": {},
     "output_type": "execute_result"
    }
   ],
   "source": [
    "#Select a model\n",
    "from sklearn.linear_model import LinearRegression\n",
    "\n",
    "l_reg = LinearRegression()\n",
    "l_reg.fit(train_X, train_y)"
   ]
  },
  {
   "cell_type": "code",
   "execution_count": 16,
   "metadata": {},
   "outputs": [
    {
     "name": "stdout",
     "output_type": "stream",
     "text": [
      "21081.926807451466 145.19616664172463 24.271605150792993\n"
     ]
    }
   ],
   "source": [
    "from sklearn.metrics import mean_absolute_error\n",
    "from sklearn.metrics import mean_squared_error\n",
    "import numpy as np\n",
    "\n",
    "predictions = l_reg.predict(train_X)\n",
    "mse = mean_squared_error(train_y, predictions)\n",
    "mae = mean_absolute_error(train_y, predictions)\n",
    "rmse = np.sqrt(mse)\n",
    "print(mse, rmse, mae)"
   ]
  },
  {
   "cell_type": "code",
   "execution_count": 17,
   "metadata": {},
   "outputs": [
    {
     "name": "stdout",
     "output_type": "stream",
     "text": [
      "1615.5978246593186 40.19449993045465 21.79718031369951\n"
     ]
    }
   ],
   "source": [
    "predictions = l_reg.predict(test_X)\n",
    "mse = mean_squared_error(test_y, predictions)\n",
    "mae = mean_absolute_error(test_y, predictions)\n",
    "rmse = np.sqrt(mse)\n",
    "print(mse, rmse, mae)"
   ]
  },
  {
   "cell_type": "code",
   "execution_count": 18,
   "metadata": {},
   "outputs": [
    {
     "data": {
      "text/plain": [
       "DecisionTreeRegressor()"
      ]
     },
     "execution_count": 18,
     "metadata": {},
     "output_type": "execute_result"
    }
   ],
   "source": [
    "from sklearn.tree import DecisionTreeRegressor\n",
    "\n",
    "d_reg = DecisionTreeRegressor()\n",
    "d_reg.fit(train_X, train_y)"
   ]
  },
  {
   "cell_type": "code",
   "execution_count": 19,
   "metadata": {},
   "outputs": [
    {
     "name": "stdout",
     "output_type": "stream",
     "text": [
      "0.0 0.0 0.0\n"
     ]
    }
   ],
   "source": [
    "predictions = d_reg.predict(train_X)\n",
    "mse = mean_squared_error(train_y, predictions)\n",
    "mae = mean_absolute_error(train_y, predictions)\n",
    "rmse = np.sqrt(mse)\n",
    "print(mse, rmse, mae)"
   ]
  },
  {
   "cell_type": "code",
   "execution_count": 20,
   "metadata": {},
   "outputs": [
    {
     "name": "stdout",
     "output_type": "stream",
     "text": [
      "1845.5774111675128 42.96018402157412 19.950507614213198\n"
     ]
    }
   ],
   "source": [
    "predictions = d_reg.predict(test_X)\n",
    "mse = mean_squared_error(test_y, predictions)\n",
    "mae = mean_absolute_error(test_y, predictions)\n",
    "rmse = np.sqrt(mse)\n",
    "print(mse, rmse, mae)"
   ]
  },
  {
   "cell_type": "code",
   "execution_count": 21,
   "metadata": {},
   "outputs": [
    {
     "name": "stderr",
     "output_type": "stream",
     "text": [
      "C:\\Users\\2019A0~1\\AppData\\Local\\Temp/ipykernel_8996/806139679.py:4: DataConversionWarning: A column-vector y was passed when a 1d array was expected. Please change the shape of y to (n_samples,), for example using ravel().\n",
      "  r_reg.fit(train_X, train_y)\n"
     ]
    },
    {
     "data": {
      "text/plain": [
       "RandomForestRegressor()"
      ]
     },
     "execution_count": 21,
     "metadata": {},
     "output_type": "execute_result"
    }
   ],
   "source": [
    "from sklearn.ensemble import RandomForestRegressor\n",
    "\n",
    "r_reg = RandomForestRegressor()\n",
    "r_reg.fit(train_X, train_y)"
   ]
  },
  {
   "cell_type": "code",
   "execution_count": 22,
   "metadata": {},
   "outputs": [
    {
     "name": "stdout",
     "output_type": "stream",
     "text": [
      "3345.947881757615 57.84416895208725 7.983937182741117\n"
     ]
    }
   ],
   "source": [
    "predictions = r_reg.predict(train_X)\n",
    "mse = mean_squared_error(train_y, predictions)\n",
    "mae = mean_absolute_error(train_y, predictions)\n",
    "rmse = np.sqrt(mse)\n",
    "print(mse, rmse, mae)"
   ]
  },
  {
   "cell_type": "code",
   "execution_count": 23,
   "metadata": {},
   "outputs": [
    {
     "name": "stdout",
     "output_type": "stream",
     "text": [
      "1627.021937817259 40.336359997119956 16.566548223350253\n"
     ]
    }
   ],
   "source": [
    "predictions = r_reg.predict(test_X)\n",
    "mse = mean_squared_error(test_y, predictions)\n",
    "mae = mean_absolute_error(test_y, predictions)\n",
    "rmse = np.sqrt(mse)\n",
    "print(mse, rmse, mae)"
   ]
  },
  {
   "cell_type": "code",
   "execution_count": 24,
   "metadata": {},
   "outputs": [
    {
     "name": "stderr",
     "output_type": "stream",
     "text": [
      "c:\\ProgramData\\Anaconda3\\lib\\site-packages\\sklearn\\utils\\validation.py:63: DataConversionWarning: A column-vector y was passed when a 1d array was expected. Please change the shape of y to (n_samples, ), for example using ravel().\n",
      "  return f(*args, **kwargs)\n"
     ]
    },
    {
     "data": {
      "text/plain": [
       "SVR()"
      ]
     },
     "execution_count": 24,
     "metadata": {},
     "output_type": "execute_result"
    }
   ],
   "source": [
    "from sklearn.svm import SVR\n",
    "\n",
    "svr = SVR()\n",
    "svr.fit(train_X, train_y)"
   ]
  },
  {
   "cell_type": "code",
   "execution_count": 25,
   "metadata": {},
   "outputs": [
    {
     "name": "stdout",
     "output_type": "stream",
     "text": [
      "22169.68962556238 148.8948945584179 28.928893778836677\n"
     ]
    }
   ],
   "source": [
    "predictions = svr.predict(train_X)\n",
    "mse = mean_squared_error(train_y, predictions)\n",
    "mae = mean_absolute_error(train_y, predictions)\n",
    "rmse = np.sqrt(mse)\n",
    "print(mse, rmse, mae)"
   ]
  },
  {
   "cell_type": "code",
   "execution_count": 26,
   "metadata": {},
   "outputs": [
    {
     "name": "stdout",
     "output_type": "stream",
     "text": [
      "2368.6811023353093 48.66909802261913 26.235771692532875\n"
     ]
    }
   ],
   "source": [
    "predictions = svr.predict(test_X)\n",
    "mse = mean_squared_error(test_y, predictions)\n",
    "mae = mean_absolute_error(test_y, predictions)\n",
    "rmse = np.sqrt(mse)\n",
    "print(mse, rmse, mae)"
   ]
  },
  {
   "cell_type": "code",
   "execution_count": 27,
   "metadata": {},
   "outputs": [
    {
     "data": {
      "text/plain": [
       "KNeighborsRegressor()"
      ]
     },
     "execution_count": 27,
     "metadata": {},
     "output_type": "execute_result"
    }
   ],
   "source": [
    "from sklearn.neighbors import KNeighborsRegressor\n",
    "knn = KNeighborsRegressor()\n",
    "knn.fit(train_X, train_y)"
   ]
  },
  {
   "cell_type": "code",
   "execution_count": 28,
   "metadata": {},
   "outputs": [
    {
     "name": "stdout",
     "output_type": "stream",
     "text": [
      "15287.141104060918 123.64117883642535 18.06986040609137\n"
     ]
    }
   ],
   "source": [
    "predictions = knn.predict(train_X)\n",
    "mse = mean_squared_error(train_y, predictions)\n",
    "mae = mean_absolute_error(train_y, predictions)\n",
    "rmse = np.sqrt(mse)\n",
    "print(mse, rmse, mae)"
   ]
  },
  {
   "cell_type": "code",
   "execution_count": 29,
   "metadata": {},
   "outputs": [
    {
     "name": "stdout",
     "output_type": "stream",
     "text": [
      "1520.7751269035534 38.99711690501688 18.479187817258882\n"
     ]
    }
   ],
   "source": [
    "predictions = knn.predict(test_X)\n",
    "mse = mean_squared_error(test_y, predictions)\n",
    "mae = mean_absolute_error(test_y, predictions)\n",
    "rmse = np.sqrt(mse)\n",
    "print(mse, rmse, mae)"
   ]
  },
  {
   "cell_type": "code",
   "execution_count": 30,
   "metadata": {},
   "outputs": [
    {
     "name": "stderr",
     "output_type": "stream",
     "text": [
      "c:\\ProgramData\\Anaconda3\\lib\\site-packages\\sklearn\\utils\\validation.py:63: DataConversionWarning: A column-vector y was passed when a 1d array was expected. Please change the shape of y to (n_samples, ), for example using ravel().\n",
      "  return f(*args, **kwargs)\n"
     ]
    },
    {
     "data": {
      "text/plain": [
       "MLPRegressor()"
      ]
     },
     "execution_count": 30,
     "metadata": {},
     "output_type": "execute_result"
    }
   ],
   "source": [
    "from sklearn.neural_network import MLPRegressor\n",
    "\n",
    "ann = MLPRegressor()\n",
    "ann.fit(train_X, train_y)"
   ]
  },
  {
   "cell_type": "code",
   "execution_count": 31,
   "metadata": {},
   "outputs": [
    {
     "name": "stdout",
     "output_type": "stream",
     "text": [
      "21118.238480757787 145.32115634262544 23.923972272748482\n"
     ]
    }
   ],
   "source": [
    "predictions = ann.predict(train_X)\n",
    "mse = mean_squared_error(train_y, predictions)\n",
    "mae = mean_absolute_error(train_y, predictions)\n",
    "rmse = np.sqrt(mse)\n",
    "print(mse, rmse, mae)"
   ]
  },
  {
   "cell_type": "code",
   "execution_count": 32,
   "metadata": {},
   "outputs": [
    {
     "name": "stdout",
     "output_type": "stream",
     "text": [
      "1632.6791775882814 40.40642495430995 21.723015799452373\n"
     ]
    }
   ],
   "source": [
    "predictions = ann.predict(test_X)\n",
    "mse = mean_squared_error(test_y, predictions)\n",
    "mae = mean_absolute_error(test_y, predictions)\n",
    "rmse = np.sqrt(mse)\n",
    "print(mse, rmse, mae)"
   ]
  },
  {
   "cell_type": "code",
   "execution_count": 30,
   "metadata": {},
   "outputs": [
    {
     "data": {
      "text/plain": [
       "GridSearchCV(cv=5, estimator=RandomForestRegressor(random_state=42),\n",
       "             param_grid={'max_depth': [8, 9, 10],\n",
       "                         'max_features': ['sqrt', 'auto', 'log2'],\n",
       "                         'min_samples_split': [2, 3, 4],\n",
       "                         'n_estimators': [800, 900, 1000]},\n",
       "             scoring='neg_mean_squared_error')"
      ]
     },
     "execution_count": 30,
     "metadata": {},
     "output_type": "execute_result"
    }
   ],
   "source": [
    "# ##그리드서치 랜덤포레스트\n",
    "\n",
    "# from sklearn.model_selection import GridSearchCV\n",
    "\n",
    "# param = {'n_estimators' : [800,900,1000], 'max_features' : ['sqrt','auto','log2'], 'max_depth' : [8,9,10],\n",
    "#          'min_samples_split': [2,3,4]}\n",
    "\n",
    "# r_reg = RandomForestRegressor(random_state=42)\n",
    "\n",
    "# search = GridSearchCV(r_reg, param, cv=5,\n",
    "#                       scoring='neg_mean_absolute_error')\n",
    "                      \n",
    "# search.fit(train_X, train_y['price'].ravel())"
   ]
  },
  {
   "cell_type": "code",
   "execution_count": 31,
   "metadata": {},
   "outputs": [
    {
     "name": "stdout",
     "output_type": "stream",
     "text": [
      "-21441.077221457825 {'max_depth': 10, 'max_features': 'sqrt', 'min_samples_split': 2, 'n_estimators': 800}\n"
     ]
    }
   ],
   "source": [
    "# print(search.best_score_, search.best_params_)"
   ]
  },
  {
   "cell_type": "code",
   "execution_count": null,
   "metadata": {},
   "outputs": [],
   "source": [
    "##그리드서치 SVR\n",
    "\n",
    "# from sklearn.model_selection import GridSearchCV\n",
    "\n",
    "# param = {'n_estimators' : [100, 200, 300], 'max_features' : [6, 8, 10], 'max_depth' : [10]}\n",
    "\n",
    "# svr = SVR(random_state=42)\n",
    "\n",
    "# search = GridSearchCV(svr, param, cv=5,\n",
    "#                       scoring='neg_mean_squared_error')\n",
    "# search.fit(train_X, train_y['price'].ravel())"
   ]
  },
  {
   "cell_type": "code",
   "execution_count": 143,
   "metadata": {},
   "outputs": [],
   "source": [
    "# search.best_params_"
   ]
  },
  {
   "cell_type": "code",
   "execution_count": 33,
   "metadata": {},
   "outputs": [
    {
     "data": {
      "text/plain": [
       "RandomForestRegressor(max_features='log2', n_estimators=900, random_state=42)"
      ]
     },
     "execution_count": 33,
     "metadata": {},
     "output_type": "execute_result"
    }
   ],
   "source": [
    "r_reg = RandomForestRegressor(bootstrap=True,\n",
    "                              min_samples_split=2,\n",
    "                              criterion='mse',\n",
    "                              max_depth=None,\n",
    "                              max_features='log2',\n",
    "                              n_estimators=900,\n",
    "                              random_state=42,\n",
    "                              )\n",
    "r_reg.fit(train_X, train_y['price'].ravel())"
   ]
  },
  {
   "cell_type": "code",
   "execution_count": 42,
   "metadata": {},
   "outputs": [
    {
     "name": "stdout",
     "output_type": "stream",
     "text": [
      "3321.488754249717 57.632358569207604 7.381443438646802\n"
     ]
    },
    {
     "data": {
      "text/plain": [
       "0.46133775423722145"
      ]
     },
     "execution_count": 42,
     "metadata": {},
     "output_type": "execute_result"
    }
   ],
   "source": [
    "predictions = r_reg.predict(train_X)\n",
    "mse = mean_squared_error(train_y, predictions)\n",
    "mae = mean_absolute_error(train_y, predictions)\n",
    "rmse = np.sqrt(mse)\n",
    "print(mse, rmse, mae)\n",
    "r_reg.score(test_X, test_y)"
   ]
  },
  {
   "cell_type": "code",
   "execution_count": 38,
   "metadata": {},
   "outputs": [
    {
     "name": "stderr",
     "output_type": "stream",
     "text": [
      "C:\\Users\\2019A0~1\\AppData\\Local\\Temp/ipykernel_8996/2580640077.py:5: DataConversionWarning: A column-vector y was passed when a 1d array was expected. Please change the shape of y to (n_samples,), for example using ravel().\n",
      "  r_reg.fit(train_X, train_y)\n",
      "C:\\Users\\2019A0~1\\AppData\\Local\\Temp/ipykernel_8996/2580640077.py:5: DataConversionWarning: A column-vector y was passed when a 1d array was expected. Please change the shape of y to (n_samples,), for example using ravel().\n",
      "  r_reg.fit(train_X, train_y)\n",
      "C:\\Users\\2019A0~1\\AppData\\Local\\Temp/ipykernel_8996/2580640077.py:5: DataConversionWarning: A column-vector y was passed when a 1d array was expected. Please change the shape of y to (n_samples,), for example using ravel().\n",
      "  r_reg.fit(train_X, train_y)\n",
      "C:\\Users\\2019A0~1\\AppData\\Local\\Temp/ipykernel_8996/2580640077.py:5: DataConversionWarning: A column-vector y was passed when a 1d array was expected. Please change the shape of y to (n_samples,), for example using ravel().\n",
      "  r_reg.fit(train_X, train_y)\n",
      "C:\\Users\\2019A0~1\\AppData\\Local\\Temp/ipykernel_8996/2580640077.py:5: DataConversionWarning: A column-vector y was passed when a 1d array was expected. Please change the shape of y to (n_samples,), for example using ravel().\n",
      "  r_reg.fit(train_X, train_y)\n",
      "C:\\Users\\2019A0~1\\AppData\\Local\\Temp/ipykernel_8996/2580640077.py:5: DataConversionWarning: A column-vector y was passed when a 1d array was expected. Please change the shape of y to (n_samples,), for example using ravel().\n",
      "  r_reg.fit(train_X, train_y)\n",
      "C:\\Users\\2019A0~1\\AppData\\Local\\Temp/ipykernel_8996/2580640077.py:5: DataConversionWarning: A column-vector y was passed when a 1d array was expected. Please change the shape of y to (n_samples,), for example using ravel().\n",
      "  r_reg.fit(train_X, train_y)\n",
      "C:\\Users\\2019A0~1\\AppData\\Local\\Temp/ipykernel_8996/2580640077.py:5: DataConversionWarning: A column-vector y was passed when a 1d array was expected. Please change the shape of y to (n_samples,), for example using ravel().\n",
      "  r_reg.fit(train_X, train_y)\n",
      "C:\\Users\\2019A0~1\\AppData\\Local\\Temp/ipykernel_8996/2580640077.py:5: DataConversionWarning: A column-vector y was passed when a 1d array was expected. Please change the shape of y to (n_samples,), for example using ravel().\n",
      "  r_reg.fit(train_X, train_y)\n",
      "C:\\Users\\2019A0~1\\AppData\\Local\\Temp/ipykernel_8996/2580640077.py:5: DataConversionWarning: A column-vector y was passed when a 1d array was expected. Please change the shape of y to (n_samples,), for example using ravel().\n",
      "  r_reg.fit(train_X, train_y)\n",
      "C:\\Users\\2019A0~1\\AppData\\Local\\Temp/ipykernel_8996/2580640077.py:5: DataConversionWarning: A column-vector y was passed when a 1d array was expected. Please change the shape of y to (n_samples,), for example using ravel().\n",
      "  r_reg.fit(train_X, train_y)\n",
      "C:\\Users\\2019A0~1\\AppData\\Local\\Temp/ipykernel_8996/2580640077.py:5: DataConversionWarning: A column-vector y was passed when a 1d array was expected. Please change the shape of y to (n_samples,), for example using ravel().\n",
      "  r_reg.fit(train_X, train_y)\n",
      "C:\\Users\\2019A0~1\\AppData\\Local\\Temp/ipykernel_8996/2580640077.py:5: DataConversionWarning: A column-vector y was passed when a 1d array was expected. Please change the shape of y to (n_samples,), for example using ravel().\n",
      "  r_reg.fit(train_X, train_y)\n",
      "C:\\Users\\2019A0~1\\AppData\\Local\\Temp/ipykernel_8996/2580640077.py:5: DataConversionWarning: A column-vector y was passed when a 1d array was expected. Please change the shape of y to (n_samples,), for example using ravel().\n",
      "  r_reg.fit(train_X, train_y)\n",
      "C:\\Users\\2019A0~1\\AppData\\Local\\Temp/ipykernel_8996/2580640077.py:5: DataConversionWarning: A column-vector y was passed when a 1d array was expected. Please change the shape of y to (n_samples,), for example using ravel().\n",
      "  r_reg.fit(train_X, train_y)\n",
      "C:\\Users\\2019A0~1\\AppData\\Local\\Temp/ipykernel_8996/2580640077.py:5: DataConversionWarning: A column-vector y was passed when a 1d array was expected. Please change the shape of y to (n_samples,), for example using ravel().\n",
      "  r_reg.fit(train_X, train_y)\n",
      "C:\\Users\\2019A0~1\\AppData\\Local\\Temp/ipykernel_8996/2580640077.py:5: DataConversionWarning: A column-vector y was passed when a 1d array was expected. Please change the shape of y to (n_samples,), for example using ravel().\n",
      "  r_reg.fit(train_X, train_y)\n",
      "C:\\Users\\2019A0~1\\AppData\\Local\\Temp/ipykernel_8996/2580640077.py:5: DataConversionWarning: A column-vector y was passed when a 1d array was expected. Please change the shape of y to (n_samples,), for example using ravel().\n",
      "  r_reg.fit(train_X, train_y)\n",
      "C:\\Users\\2019A0~1\\AppData\\Local\\Temp/ipykernel_8996/2580640077.py:5: DataConversionWarning: A column-vector y was passed when a 1d array was expected. Please change the shape of y to (n_samples,), for example using ravel().\n",
      "  r_reg.fit(train_X, train_y)\n",
      "C:\\Users\\2019A0~1\\AppData\\Local\\Temp/ipykernel_8996/2580640077.py:5: DataConversionWarning: A column-vector y was passed when a 1d array was expected. Please change the shape of y to (n_samples,), for example using ravel().\n",
      "  r_reg.fit(train_X, train_y)\n",
      "C:\\Users\\2019A0~1\\AppData\\Local\\Temp/ipykernel_8996/2580640077.py:5: DataConversionWarning: A column-vector y was passed when a 1d array was expected. Please change the shape of y to (n_samples,), for example using ravel().\n",
      "  r_reg.fit(train_X, train_y)\n",
      "C:\\Users\\2019A0~1\\AppData\\Local\\Temp/ipykernel_8996/2580640077.py:5: DataConversionWarning: A column-vector y was passed when a 1d array was expected. Please change the shape of y to (n_samples,), for example using ravel().\n",
      "  r_reg.fit(train_X, train_y)\n",
      "C:\\Users\\2019A0~1\\AppData\\Local\\Temp/ipykernel_8996/2580640077.py:5: DataConversionWarning: A column-vector y was passed when a 1d array was expected. Please change the shape of y to (n_samples,), for example using ravel().\n",
      "  r_reg.fit(train_X, train_y)\n",
      "C:\\Users\\2019A0~1\\AppData\\Local\\Temp/ipykernel_8996/2580640077.py:5: DataConversionWarning: A column-vector y was passed when a 1d array was expected. Please change the shape of y to (n_samples,), for example using ravel().\n",
      "  r_reg.fit(train_X, train_y)\n",
      "C:\\Users\\2019A0~1\\AppData\\Local\\Temp/ipykernel_8996/2580640077.py:5: DataConversionWarning: A column-vector y was passed when a 1d array was expected. Please change the shape of y to (n_samples,), for example using ravel().\n",
      "  r_reg.fit(train_X, train_y)\n",
      "C:\\Users\\2019A0~1\\AppData\\Local\\Temp/ipykernel_8996/2580640077.py:5: DataConversionWarning: A column-vector y was passed when a 1d array was expected. Please change the shape of y to (n_samples,), for example using ravel().\n",
      "  r_reg.fit(train_X, train_y)\n",
      "C:\\Users\\2019A0~1\\AppData\\Local\\Temp/ipykernel_8996/2580640077.py:5: DataConversionWarning: A column-vector y was passed when a 1d array was expected. Please change the shape of y to (n_samples,), for example using ravel().\n",
      "  r_reg.fit(train_X, train_y)\n",
      "C:\\Users\\2019A0~1\\AppData\\Local\\Temp/ipykernel_8996/2580640077.py:5: DataConversionWarning: A column-vector y was passed when a 1d array was expected. Please change the shape of y to (n_samples,), for example using ravel().\n",
      "  r_reg.fit(train_X, train_y)\n",
      "C:\\Users\\2019A0~1\\AppData\\Local\\Temp/ipykernel_8996/2580640077.py:5: DataConversionWarning: A column-vector y was passed when a 1d array was expected. Please change the shape of y to (n_samples,), for example using ravel().\n",
      "  r_reg.fit(train_X, train_y)\n",
      "C:\\Users\\2019A0~1\\AppData\\Local\\Temp/ipykernel_8996/2580640077.py:5: DataConversionWarning: A column-vector y was passed when a 1d array was expected. Please change the shape of y to (n_samples,), for example using ravel().\n",
      "  r_reg.fit(train_X, train_y)\n",
      "C:\\Users\\2019A0~1\\AppData\\Local\\Temp/ipykernel_8996/2580640077.py:5: DataConversionWarning: A column-vector y was passed when a 1d array was expected. Please change the shape of y to (n_samples,), for example using ravel().\n",
      "  r_reg.fit(train_X, train_y)\n",
      "C:\\Users\\2019A0~1\\AppData\\Local\\Temp/ipykernel_8996/2580640077.py:5: DataConversionWarning: A column-vector y was passed when a 1d array was expected. Please change the shape of y to (n_samples,), for example using ravel().\n",
      "  r_reg.fit(train_X, train_y)\n",
      "C:\\Users\\2019A0~1\\AppData\\Local\\Temp/ipykernel_8996/2580640077.py:5: DataConversionWarning: A column-vector y was passed when a 1d array was expected. Please change the shape of y to (n_samples,), for example using ravel().\n",
      "  r_reg.fit(train_X, train_y)\n",
      "C:\\Users\\2019A0~1\\AppData\\Local\\Temp/ipykernel_8996/2580640077.py:5: DataConversionWarning: A column-vector y was passed when a 1d array was expected. Please change the shape of y to (n_samples,), for example using ravel().\n",
      "  r_reg.fit(train_X, train_y)\n",
      "C:\\Users\\2019A0~1\\AppData\\Local\\Temp/ipykernel_8996/2580640077.py:5: DataConversionWarning: A column-vector y was passed when a 1d array was expected. Please change the shape of y to (n_samples,), for example using ravel().\n",
      "  r_reg.fit(train_X, train_y)\n",
      "C:\\Users\\2019A0~1\\AppData\\Local\\Temp/ipykernel_8996/2580640077.py:5: DataConversionWarning: A column-vector y was passed when a 1d array was expected. Please change the shape of y to (n_samples,), for example using ravel().\n",
      "  r_reg.fit(train_X, train_y)\n",
      "C:\\Users\\2019A0~1\\AppData\\Local\\Temp/ipykernel_8996/2580640077.py:5: DataConversionWarning: A column-vector y was passed when a 1d array was expected. Please change the shape of y to (n_samples,), for example using ravel().\n",
      "  r_reg.fit(train_X, train_y)\n",
      "C:\\Users\\2019A0~1\\AppData\\Local\\Temp/ipykernel_8996/2580640077.py:5: DataConversionWarning: A column-vector y was passed when a 1d array was expected. Please change the shape of y to (n_samples,), for example using ravel().\n",
      "  r_reg.fit(train_X, train_y)\n",
      "C:\\Users\\2019A0~1\\AppData\\Local\\Temp/ipykernel_8996/2580640077.py:5: DataConversionWarning: A column-vector y was passed when a 1d array was expected. Please change the shape of y to (n_samples,), for example using ravel().\n",
      "  r_reg.fit(train_X, train_y)\n",
      "C:\\Users\\2019A0~1\\AppData\\Local\\Temp/ipykernel_8996/2580640077.py:5: DataConversionWarning: A column-vector y was passed when a 1d array was expected. Please change the shape of y to (n_samples,), for example using ravel().\n",
      "  r_reg.fit(train_X, train_y)\n",
      "C:\\Users\\2019A0~1\\AppData\\Local\\Temp/ipykernel_8996/2580640077.py:5: DataConversionWarning: A column-vector y was passed when a 1d array was expected. Please change the shape of y to (n_samples,), for example using ravel().\n",
      "  r_reg.fit(train_X, train_y)\n",
      "C:\\Users\\2019A0~1\\AppData\\Local\\Temp/ipykernel_8996/2580640077.py:5: DataConversionWarning: A column-vector y was passed when a 1d array was expected. Please change the shape of y to (n_samples,), for example using ravel().\n",
      "  r_reg.fit(train_X, train_y)\n",
      "C:\\Users\\2019A0~1\\AppData\\Local\\Temp/ipykernel_8996/2580640077.py:5: DataConversionWarning: A column-vector y was passed when a 1d array was expected. Please change the shape of y to (n_samples,), for example using ravel().\n",
      "  r_reg.fit(train_X, train_y)\n",
      "C:\\Users\\2019A0~1\\AppData\\Local\\Temp/ipykernel_8996/2580640077.py:5: DataConversionWarning: A column-vector y was passed when a 1d array was expected. Please change the shape of y to (n_samples,), for example using ravel().\n",
      "  r_reg.fit(train_X, train_y)\n",
      "C:\\Users\\2019A0~1\\AppData\\Local\\Temp/ipykernel_8996/2580640077.py:5: DataConversionWarning: A column-vector y was passed when a 1d array was expected. Please change the shape of y to (n_samples,), for example using ravel().\n",
      "  r_reg.fit(train_X, train_y)\n",
      "C:\\Users\\2019A0~1\\AppData\\Local\\Temp/ipykernel_8996/2580640077.py:5: DataConversionWarning: A column-vector y was passed when a 1d array was expected. Please change the shape of y to (n_samples,), for example using ravel().\n",
      "  r_reg.fit(train_X, train_y)\n",
      "C:\\Users\\2019A0~1\\AppData\\Local\\Temp/ipykernel_8996/2580640077.py:5: DataConversionWarning: A column-vector y was passed when a 1d array was expected. Please change the shape of y to (n_samples,), for example using ravel().\n",
      "  r_reg.fit(train_X, train_y)\n",
      "C:\\Users\\2019A0~1\\AppData\\Local\\Temp/ipykernel_8996/2580640077.py:5: DataConversionWarning: A column-vector y was passed when a 1d array was expected. Please change the shape of y to (n_samples,), for example using ravel().\n",
      "  r_reg.fit(train_X, train_y)\n",
      "C:\\Users\\2019A0~1\\AppData\\Local\\Temp/ipykernel_8996/2580640077.py:5: DataConversionWarning: A column-vector y was passed when a 1d array was expected. Please change the shape of y to (n_samples,), for example using ravel().\n",
      "  r_reg.fit(train_X, train_y)\n"
     ]
    },
    {
     "data": {
      "text/plain": [
       "[<matplotlib.lines.Line2D at 0x1ae5514b490>]"
      ]
     },
     "execution_count": 38,
     "metadata": {},
     "output_type": "execute_result"
    },
    {
     "data": {
      "image/png": "[encoded data removed]",
      "text/plain": [
       "<Figure size 432x288 with 1 Axes>"
      ]
     },
     "metadata": {
      "needs_background": "light"
     },
     "output_type": "display_data"
    }
   ],
   "source": [
    "estimators = np.arange(10, 500, 10)\n",
    "scores = []\n",
    "for n in estimators:\n",
    "    r_reg.set_params(n_estimators=n)\n",
    "    r_reg.fit(train_X, train_y)\n",
    "    scores.append(r_reg.score(test_X, test_y))\n",
    "plt.title(\"Effect of n_estimators\")\n",
    "plt.xlabel(\"n_estimator\")\n",
    "plt.ylabel(\"score\")\n",
    "plt.plot(estimators, scores)"
   ]
  },
  {
   "cell_type": "code",
   "execution_count": 43,
   "metadata": {},
   "outputs": [
    {
     "data": {
      "text/plain": [
       "('criterion',\n",
       " 'max_depth',\n",
       " 'min_samples_split',\n",
       " 'min_samples_leaf',\n",
       " 'min_weight_fraction_leaf',\n",
       " 'max_features',\n",
       " 'max_leaf_nodes',\n",
       " 'min_impurity_decrease',\n",
       " 'min_impurity_split',\n",
       " 'random_state',\n",
       " 'ccp_alpha')"
      ]
     },
     "execution_count": 43,
     "metadata": {},
     "output_type": "execute_result"
    }
   ],
   "source": []
  },
  {
   "cell_type": "code",
   "execution_count": 152,
   "metadata": {},
   "outputs": [
    {
     "data": {
      "text/plain": [
       "['C:\\\\Users\\\\2019A00303\\\\Desktop\\\\Code\\\\Airbnb Project\\\\Model\\\\SeoulModel.pkl']"
      ]
     },
     "execution_count": 152,
     "metadata": {},
     "output_type": "execute_result"
    }
   ],
   "source": [
    "# import pickle\n",
    "# import joblib\n",
    "\n",
    "# joblib.dump(r_reg, 'C:\\\\Users\\\\2019A00303\\\\Desktop\\\\Code\\\\Airbnb Project\\\\Model\\\\SeoulModel.pkl')"
   ]
  },
  {
   "cell_type": "code",
   "execution_count": 39,
   "metadata": {},
   "outputs": [
    {
     "data": {
      "text/plain": [
       "Text(0.5, 0, 'Relative Importance')"
      ]
     },
     "execution_count": 39,
     "metadata": {},
     "output_type": "execute_result"
    },
    {
     "data": {
      "image/png": "[encoded data removed]",
      "text/plain": [
       "<Figure size 432x288 with 1 Axes>"
      ]
     },
     "metadata": {
      "needs_background": "light"
     },
     "output_type": "display_data"
    }
   ],
   "source": [
    "features = train_X.columns\n",
    "importances = r_reg.feature_importances_\n",
    "indices = np.argsort(importances)\n",
    "\n",
    "plt.title('Feature Importances')\n",
    "plt.barh(range(len(indices)), importances[indices], color='g', align='center')\n",
    "plt.yticks(range(len(indices)), [features[i] for i in indices])\n",
    "plt.xlabel('Relative Importance')"
   ]
  },
  {
   "cell_type": "code",
   "execution_count": null,
   "metadata": {},
   "outputs": [],
   "source": []
  }
 ],
 "metadata": {
  "interpreter": {
   "hash": "ad2bdc8ecc057115af97d19610ffacc2b4e99fae6737bb82f5d7fb13d2f2c186"
  },
  "kernelspec": {
   "display_name": "Python 3.9.7 ('base')",
   "language": "python",
   "name": "python3"
  },
  "language_info": {
   "codemirror_mode": {
    "name": "ipython",
    "version": 3
   },
   "file_extension": ".py",
   "mimetype": "text/x-python",
   "name": "python",
   "nbconvert_exporter": "python",
   "pygments_lexer": "ipython3",
   "version": "3.9.7"
  },
  "orig_nbformat": 4
 },
 "nbformat": 4,
 "nbformat_minor": 2
}
